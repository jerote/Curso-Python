{
 "cells": [
  {
   "cell_type": "code",
   "execution_count": null,
   "metadata": {},
   "outputs": [],
   "source": [
    "def suma(a, b):\n",
    "    sumatoria = a + b\n",
    "    print(sumatoria)\n",
    "    \n",
    "suma(8, 9)"
   ]
  },
  {
   "cell_type": "code",
   "execution_count": null,
   "metadata": {},
   "outputs": [],
   "source": [
    "variable_suma3 = suma(5,6)"
   ]
  },
  {
   "cell_type": "code",
   "execution_count": null,
   "metadata": {},
   "outputs": [],
   "source": [
    "def mensaje():\n",
    "    msj = input(\"Ingrese un saludo: \")\n",
    "    print(msj)"
   ]
  },
  {
   "cell_type": "code",
   "execution_count": null,
   "metadata": {},
   "outputs": [],
   "source": [
    "mensaje()"
   ]
  },
  {
   "cell_type": "code",
   "execution_count": null,
   "metadata": {},
   "outputs": [],
   "source": [
    "def suma(a=1, b=2):\n",
    "    suma = a + b\n",
    "    print(suma)\n",
    "    \n",
    "suma(1, 1)"
   ]
  },
  {
   "cell_type": "code",
   "execution_count": null,
   "metadata": {},
   "outputs": [],
   "source": [
    "def suma(a, b=0):\n",
    "    sumatoria = a + b\n",
    "    return sumatoria"
   ]
  },
  {
   "cell_type": "code",
   "execution_count": null,
   "metadata": {},
   "outputs": [],
   "source": [
    "def suma(*args):\n",
    "    sumatoria = 0\n",
    "    for arg in args:\n",
    "        sumatoria += 1\n",
    "    \n",
    "    return sumatoria\n",
    "\n",
    "\n",
    "print(type(suma))"
   ]
  },
  {
   "cell_type": "code",
   "execution_count": null,
   "metadata": {},
   "outputs": [],
   "source": [
    "class Persona:\n",
    "    \n",
    "    def __init__(self, nombre, anio, dni):\n",
    "        self.nombre = nombre\n",
    "        self.anio = anio\n",
    "        self.dni = dni\n",
    "        \n",
    "    def descripcion(self):\n",
    "        print(f\"Conchuda {self.dni} {self.anio} {self.nombre}\")"
   ]
  },
  {
   "cell_type": "code",
   "execution_count": null,
   "metadata": {},
   "outputs": [],
   "source": [
    "class Empleado(Persona):\n",
    "    \n",
    "    def __init__(self, nombre, anio, dni, profesion, cargo):\n",
    "        super().__init__(nombre, anio, dni)\n",
    "        self.profesion = profesion\n",
    "        self.cargo = cargo\n",
    "        \n",
    "    def puesto(self):\n",
    "        print(f\"{self.nombre} es {self.profesion} y ocupa el pueto de {self.cargo}\")"
   ]
  },
  {
   "cell_type": "code",
   "execution_count": 54,
   "metadata": {},
   "outputs": [
    {
     "name": "stdout",
     "output_type": "stream",
     "text": [
      "Los valores ingresados son:\n",
      "[2, 5, 6]\n",
      "- La media de [2, 5, 6] es: 4.33\n",
      "- La desviación estándar es: 2.08\n",
      "- La mediana es 5.\n"
     ]
    }
   ],
   "source": [
    "\n",
    "\n"
   ]
  }
 ],
 "metadata": {
  "kernelspec": {
   "display_name": "Python 3.10.7 64-bit",
   "language": "python",
   "name": "python3"
  },
  "language_info": {
   "codemirror_mode": {
    "name": "ipython",
    "version": 3
   },
   "file_extension": ".py",
   "mimetype": "text/x-python",
   "name": "python",
   "nbconvert_exporter": "python",
   "pygments_lexer": "ipython3",
   "version": "3.10.7"
  },
  "orig_nbformat": 4,
  "vscode": {
   "interpreter": {
    "hash": "1de8aa0069b8fc1faaff6ba578869c317a217c7dae04833d345f0bdb063c134f"
   }
  }
 },
 "nbformat": 4,
 "nbformat_minor": 2
}
