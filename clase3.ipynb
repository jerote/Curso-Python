{
 "cells": [
  {
   "cell_type": "code",
   "execution_count": null,
   "metadata": {},
   "outputs": [],
   "source": [
    "def suma(a, b):\n",
    "    sumatoria = a + b\n",
    "    print(sumatoria)\n",
    "    \n",
    "suma(8, 9)"
   ]
  },
  {
   "cell_type": "code",
   "execution_count": null,
   "metadata": {},
   "outputs": [],
   "source": [
    "variable_suma3 = suma(5,6)"
   ]
  },
  {
   "cell_type": "code",
   "execution_count": null,
   "metadata": {},
   "outputs": [],
   "source": [
    "def mensaje():\n",
    "    msj = input(\"Ingrese un saludo: \")\n",
    "    print(msj)"
   ]
  },
  {
   "cell_type": "code",
   "execution_count": null,
   "metadata": {},
   "outputs": [],
   "source": [
    "mensaje()"
   ]
  },
  {
   "cell_type": "code",
   "execution_count": null,
   "metadata": {},
   "outputs": [],
   "source": [
    "def suma(a=1, b=2):\n",
    "    suma = a + b\n",
    "    print(suma)\n",
    "    \n",
    "suma(1, 1)"
   ]
  },
  {
   "cell_type": "code",
   "execution_count": null,
   "metadata": {},
   "outputs": [],
   "source": [
    "def suma(a, b=0):\n",
    "    sumatoria = a + b\n",
    "    return sumatoria"
   ]
  },
  {
   "cell_type": "code",
   "execution_count": null,
   "metadata": {},
   "outputs": [],
   "source": [
    "def suma(*args):\n",
    "    sumatoria = 0\n",
    "    for arg in args:\n",
    "        sumatoria += 1\n",
    "    \n",
    "    return sumatoria\n",
    "\n",
    "\n",
    "print(type(suma))"
   ]
  },
  {
   "cell_type": "code",
   "execution_count": null,
   "metadata": {},
   "outputs": [],
   "source": [
    "class Persona:\n",
    "    \n",
    "    def __init__(self, nombre, anio, dni):\n",
    "        self.nombre = nombre\n",
    "        self.anio = anio\n",
    "        self.dni = dni\n",
    "        \n",
    "    def descripcion(self):\n",
    "        print(f\"Conchuda {self.dni} {self.anio} {self.nombre}\")"
   ]
  },
  {
   "cell_type": "code",
   "execution_count": null,
   "metadata": {},
   "outputs": [],
   "source": [
    "class Empleado(Persona):\n",
    "    \n",
    "    def __init__(self, nombre, anio, dni, profesion, cargo):\n",
    "        super().__init__(nombre, anio, dni)\n",
    "        self.profesion = profesion\n",
    "        self.cargo = cargo\n",
    "        \n",
    "    def puesto(self):\n",
    "        print(f\"{self.nombre} es {self.profesion} y ocupa el pueto de {self.cargo}\")"
   ]
  },
  {
   "cell_type": "code",
   "execution_count": 54,
   "metadata": {},
   "outputs": [
    {
     "name": "stdout",
     "output_type": "stream",
     "text": [
      "Los valores ingresados son:\n",
      "[2, 5, 6]\n",
      "- La media de [2, 5, 6] es: 4.33\n",
      "- La desviación estándar es: 2.08\n",
      "- La mediana es 5.\n"
     ]
    }
   ],
   "source": [
    "# a) Crear una función que tome una lista de valores flotantes,\n",
    "# calcule la media de los valores y la devuelva como valor de retorno.\n",
    "\n",
    "def media(valores = []):\n",
    "    media = sum(valores) / len(valores)\n",
    "\n",
    "    return media\n",
    "\n",
    "# media([5.8, 10.2, 2.3, 35.1, 7.16])\n",
    "\n",
    "# b) Crear una función que tome una lista de valores flotantes,\n",
    "# calcule la mediana de los valores y la devuelva como valor de retorno.\n",
    "\n",
    "def mediana(valores = []):\n",
    "\n",
    "    ordenados = sorted(valores)\n",
    "        \n",
    "    if len(ordenados) % 2 != 0:\n",
    "        mitad = int((len(ordenados) - 1) / 2)\n",
    "        mediana = ordenados[mitad]\n",
    "    else:\n",
    "        mitad = int(len(ordenados) / 2)\n",
    "        centro1 = ordenados[mitad]\n",
    "        centro2 = ordenados[mitad + 1]\n",
    "        mediana = round((centro1 + centro2) / 2, 2)\n",
    "\n",
    "    return mediana\n",
    "\n",
    "# flotantes([17.3, 42.12, 6.9, 37.1, 9.3, 5.87])\n",
    "\n",
    "# c) Crear una función que tome una lista de valores flotantes\n",
    "# y calcule la desviación estándar.\n",
    "\n",
    "def std_dev(valores=[]):\n",
    "\n",
    "    # Ecuación para tener presente\n",
    "    # σ = √Σ(Xi - µ)²/(n - ­1)\n",
    "\n",
    "    mean = sum(valores) / len(valores) # µ - letra griega 'mu' - es la sumatoria de los numeros del listado sobre la candtidad de numeros.\n",
    "    sigma = 0 # Σ - letra griega 'sigma' mayúscula representa la sumatoria de los número del listado\n",
    "\n",
    "    for i in range(len(valores)):\n",
    "        sigma += (valores[i] - mean) ** 2 # Σ(Xi - µ)² - suma a sigma el resultado del cuadrado de la resta de binomio de cada búmero número en el listado\n",
    "\n",
    "    std_dev = (sigma / (len(valores) - 1)) ** (1/2) # raíz cuadrada de la división de sigma sobre la cantidad de números 'n' menos 1 \n",
    "\n",
    "    return std_dev\n",
    "\n",
    "# std_dev([170, 155, 160, 185, 145])\n",
    "\n",
    "# d) Crear un programa principal que cumpla con los siguientes puntos:\n",
    "# i) Solicite que se ingrese por teclado el número de valores a ingresar.\n",
    "\n",
    "def ingreso():\n",
    "    num_valores = int(input('Ingrese el número de valores: '))\n",
    "\n",
    "    while num_valores <= 1:\n",
    "        num_valores = int(input('Ingrese un valor mayor a 1: '))\n",
    "        continue\n",
    "\n",
    "    return num_valores\n",
    "\n",
    "num_valores = ingreso()\n",
    "        \n",
    "# ii) Crear una lista de valores flotantes ingresados por teclado. La lista\n",
    "# debe tener tantos valores como indique el número obtenido en el punto anterior.\n",
    "\n",
    "def flotantes():\n",
    "    lista_float = []\n",
    "    i = 0\n",
    "\n",
    "    while i < num_valores:\n",
    "        i += 1\n",
    "        valor = input(f'Ingrese el valor Nº {i}: ')\n",
    "        lista_float.append(int(valor))\n",
    "        continue\n",
    "\n",
    "    return lista_float\n",
    "\n",
    "lista_float = flotantes()\n",
    "\n",
    "# iii) Mostrar por pantalla los valores ingresados bajo el mensaje “Los\n",
    "# valores son:” y luego los valores.\n",
    "\n",
    "print('Los valores ingresados son:')\n",
    "print(lista_float)\n",
    "\n",
    "# iv) Calcular y mostrar por pantalla la media, la desviación estándar y la\n",
    "# mediana de los valores.\n",
    "\n",
    "media = media(lista_float)\n",
    "std_dev = std_dev(lista_float)\n",
    "mediana = mediana(lista_float)\n",
    "\n",
    "print(f'- La media de {lista_float} es: {round(media, 2)}')\n",
    "print(f'- La desviación estándar es: {round(std_dev, 2)}')\n",
    "print(f'- La mediana es {mediana}.')"
   ]
  }
 ],
 "metadata": {
  "kernelspec": {
   "display_name": "Python 3.10.7 64-bit",
   "language": "python",
   "name": "python3"
  },
  "language_info": {
   "codemirror_mode": {
    "name": "ipython",
    "version": 3
   },
   "file_extension": ".py",
   "mimetype": "text/x-python",
   "name": "python",
   "nbconvert_exporter": "python",
   "pygments_lexer": "ipython3",
   "version": "3.10.7"
  },
  "orig_nbformat": 4,
  "vscode": {
   "interpreter": {
    "hash": "1de8aa0069b8fc1faaff6ba578869c317a217c7dae04833d345f0bdb063c134f"
   }
  }
 },
 "nbformat": 4,
 "nbformat_minor": 2
}
