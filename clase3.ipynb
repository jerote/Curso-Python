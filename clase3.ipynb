{
 "cells": [
  {
   "cell_type": "code",
   "execution_count": null,
   "metadata": {},
   "outputs": [],
   "source": [
    "def suma(a, b):\n",
    "    sumatoria = a + b\n",
    "    print(sumatoria)\n",
    "    \n",
    "suma(8, 9)"
   ]
  },
  {
   "cell_type": "code",
   "execution_count": null,
   "metadata": {},
   "outputs": [],
   "source": [
    "variable_suma3 = suma(5,6)"
   ]
  },
  {
   "cell_type": "code",
   "execution_count": null,
   "metadata": {},
   "outputs": [],
   "source": [
    "def mensaje():\n",
    "    msj = input(\"Ingrese un saludo: \")\n",
    "    print(msj)"
   ]
  },
  {
   "cell_type": "code",
   "execution_count": null,
   "metadata": {},
   "outputs": [],
   "source": [
    "mensaje()"
   ]
  },
  {
   "cell_type": "code",
   "execution_count": null,
   "metadata": {},
   "outputs": [],
   "source": [
    "def suma(a=1, b=2):\n",
    "    suma = a + b\n",
    "    print(suma)\n",
    "    \n",
    "suma(1, 1)"
   ]
  },
  {
   "cell_type": "code",
   "execution_count": null,
   "metadata": {},
   "outputs": [],
   "source": [
    "def suma(a, b=0):\n",
    "    sumatoria = a + b\n",
    "    return sumatoria"
   ]
  },
  {
   "cell_type": "code",
   "execution_count": null,
   "metadata": {},
   "outputs": [],
   "source": [
    "def suma(*args):\n",
    "    sumatoria = 0\n",
    "    for arg in args:\n",
    "        sumatoria += 1\n",
    "    \n",
    "    return sumatoria\n",
    "\n",
    "\n",
    "print(type(suma))"
   ]
  },
  {
   "cell_type": "code",
   "execution_count": null,
   "metadata": {},
   "outputs": [],
   "source": [
    "class Persona:\n",
    "    \n",
    "    def __init__(self, nombre, anio, dni):\n",
    "        self.nombre = nombre\n",
    "        self.anio = anio\n",
    "        self.dni = dni\n",
    "        \n",
    "    def descripcion(self):\n",
    "        print(f\"Conchuda {self.dni} {self.anio} {self.nombre}\")"
   ]
  },
  {
   "cell_type": "code",
   "execution_count": null,
   "metadata": {},
   "outputs": [],
   "source": [
    "class Empleado(Persona):\n",
    "    \n",
    "    def __init__(self, nombre, anio, dni, profesion, cargo):\n",
    "        super().__init__(nombre, anio, dni)\n",
    "        self.profesion = profesion\n",
    "        self.cargo = cargo\n",
    "        \n",
    "    def puesto(self):\n",
    "        print(f\"{self.nombre} es {self.profesion} y ocupa el pueto de {self.cargo}\")"
   ]
  },
  {
   "cell_type": "code",
   "execution_count": 26,
   "metadata": {},
   "outputs": [
    {
     "data": {
      "text/plain": [
       "12.11"
      ]
     },
     "execution_count": 26,
     "metadata": {},
     "output_type": "execute_result"
    }
   ],
   "source": [
    "# a) Crear una función que tome una lista de valores flotantes,\n",
    "# calcule la media de los valores y la devuelva como valor de retorno.\n",
    "\n",
    "def flotantes(valores = []):\n",
    "    media = sum(valores) / len(valores) \n",
    "    return round(media, 2)\n",
    "\n",
    "flotantes([5.8, 10.2, 2.3, 35.1, 7.16])"
   ]
  },
  {
   "cell_type": "code",
   "execution_count": 88,
   "metadata": {},
   "outputs": [
    {
     "name": "stdout",
     "output_type": "stream",
     "text": [
      "[5.87, 6.9, 9.3, 17.3, 37.1, 42.12]\n",
      "La lista tiene 6 valores\n",
      "La mediana es 27.2\n"
     ]
    }
   ],
   "source": [
    "# b) Crear una función que tome una lista de valores flotantes,\n",
    "# calcule la mediana de los valores y la devuelva como valor de retorno.\n",
    "\n",
    "def flotantes(valores = []):\n",
    "\n",
    "    ordenados = sorted(valores)\n",
    "        \n",
    "    if len(ordenados) % 2 != 0:\n",
    "        mitad = int((len(ordenados) - 1) / 2)\n",
    "        mediana = ordenados[mitad]\n",
    "    else:\n",
    "        mitad = int(len(ordenados) / 2)\n",
    "        centro1 = ordenados[mitad]\n",
    "        centro2 = ordenados[mitad + 1]\n",
    "        mediana = round((centro1 + centro2) / 2, 2)\n",
    "\n",
    "    print(ordenados)\n",
    "    print(f'La lista tiene {len(ordenados)} valores')\n",
    "    print(f'La mediana es {mediana}')\n",
    "\n",
    "flotantes([17.3, 42.12, 6.9, 37.1, 9.3, 5.87])"
   ]
  },
  {
   "cell_type": "code",
   "execution_count": 73,
   "metadata": {},
   "outputs": [
    {
     "name": "stdout",
     "output_type": "stream",
     "text": [
      "Valor Σ(Xi - µ)²:\n",
      " 930\n",
      "Valor µ:\n",
      " 163\n",
      "Valor n:\n",
      " 815\n",
      "Var. Estándar:\n",
      " 15.25\n"
     ]
    }
   ],
   "source": [
    "# c) Crear una función que tome una lista de valores flotantes\n",
    "# y calcule la desviación estándar.\n",
    "\n",
    "def std_dev(valores=[]):\n",
    "\n",
    "    # Ecuación para tener presente\n",
    "    # σ = √Σ(Xi - µ)²/(n - ­1)\n",
    "\n",
    "    mean = sum(valores) / len(valores) # µ - letra griega 'mu' - es la sumatoria de los numeros del listado sobre la candtidad de numeros.\n",
    "    sigma = 0 # Σ - letra griega 'sigma' mayúscula representa la sumatoria de los número del listado\n",
    "\n",
    "    for i in range(len(valores)):\n",
    "        sigma += (valores[i] - mean) ** 2 # Σ(Xi - µ)² - suma a sigma el resultado del cuadrado de la resta de binomio de cada búmero número en el listado\n",
    "\n",
    "    std_dev = (sigma / (len(valores) - 1)) ** (1/2) # raíz cuadrada de la división de sigma sobre la cantidad de números 'n' menos 1 \n",
    "\n",
    "    print(f'Valor Σ(Xi - µ)²:\\n {int(sigma)}')\n",
    "    print(f'Valor µ:\\n {int(mean)}')\n",
    "    print(f'Valor n:\\n {sum(valores)}')\n",
    "    print(f'Var. Estándar:\\n {round(std_dev, 2)}')\n",
    "\n",
    "std_dev([170, 155, 160, 185, 145])"
   ]
  },
  {
   "cell_type": "markdown",
   "metadata": {},
   "source": [
    "mean = 163\n",
    "\n",
    "(170 - 163) ** 2 = 49\n",
    "(155 - 163) ** 2 = 64\n",
    "(160 - 163) ** 2 = 9\n",
    "(185 - 163) ** 2 = 484\n",
    "(145 - 163) ** 2 = 324\n",
    "suma total = 930"
   ]
  },
  {
   "cell_type": "code",
   "execution_count": null,
   "metadata": {},
   "outputs": [],
   "source": []
  }
 ],
 "metadata": {
  "kernelspec": {
   "display_name": "Python 3.10.7 64-bit",
   "language": "python",
   "name": "python3"
  },
  "language_info": {
   "codemirror_mode": {
    "name": "ipython",
    "version": 3
   },
   "file_extension": ".py",
   "mimetype": "text/x-python",
   "name": "python",
   "nbconvert_exporter": "python",
   "pygments_lexer": "ipython3",
   "version": "3.10.7"
  },
  "orig_nbformat": 4,
  "vscode": {
   "interpreter": {
    "hash": "1de8aa0069b8fc1faaff6ba578869c317a217c7dae04833d345f0bdb063c134f"
   }
  }
 },
 "nbformat": 4,
 "nbformat_minor": 2
}
