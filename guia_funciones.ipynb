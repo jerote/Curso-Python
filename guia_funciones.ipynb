{
 "cells": [
  {
   "cell_type": "code",
   "execution_count": null,
   "metadata": {},
   "outputs": [],
   "source": [
    "# Ejercicio 1\n",
    "\n",
    "def rectangulo(figura=\"*\"):\n",
    "    base = int(input(\"Ingrese un número para la base\"))\n",
    "    altura = int(input(\"Ingrese un número para la altura\"))\n",
    "    \n",
    "    for i in range(0, altura):\n",
    "        print((figura + \"  \") * base)\n",
    "        \n",
    "rectangulo()"
   ]
  },
  {
   "cell_type": "code",
   "execution_count": null,
   "metadata": {},
   "outputs": [],
   "source": [
    "# Ejercicio 2\n",
    "\n",
    "def rectangulo():\n",
    "    \n",
    "    while True:\n",
    "        base = int(input(\"Ingrese un número para la base\"))\n",
    "        if base <= 0:\n",
    "            print(\"Ingrese un valor mayor a 0\")\n",
    "        else:\n",
    "            break\n",
    "        \n",
    "    altura = int(input(\"Ingrese un número para la altura\"))\n",
    "    figura = input(\"Ingrese un símbolo para dibujar: \")\n",
    "    \n",
    "    for i in range(0, altura):\n",
    "        print((figura + \"  \") * base)\n",
    "        \n",
    "rectangulo()"
   ]
  },
  {
   "cell_type": "code",
   "execution_count": null,
   "metadata": {},
   "outputs": [],
   "source": [
    "# Ejercicio 3\n",
    "\n",
    "def bisiesto():\n",
    "    \n",
    "    anio = int(1350)\n",
    "    \n",
    "    if anio % 4 == 0 and (anio % 100 == 0 or anio % 400 == 0):\n",
    "        return True\n",
    "    else:\n",
    "        return False\n",
    "            \n",
    "bisiesto()"
   ]
  },
  {
   "cell_type": "code",
   "execution_count": null,
   "metadata": {},
   "outputs": [],
   "source": [
    "# Ejercicio 4\n",
    "\n",
    "def pedir_anios():\n",
    "    \n",
    "    while True:\n",
    "        anio_1 = int(input(\"Ingresá un año: \"))\n",
    "        if anio_1 > 0:\n",
    "            break\n",
    "        else:\n",
    "            print(\"Ingresá solo números positivos.\")\n",
    "\n",
    "    while True:\n",
    "        anio_2 = int(input(\"Ingresá un año: \"))\n",
    "        if anio_2 > 0:\n",
    "            break\n",
    "        else:\n",
    "            print(\"Ingresá solo números positivos.\")\n",
    "\n",
    "    anio_menor = min((anio_1, anio_2))\n",
    "    anio_mayor = max((anio_1, anio_2))\n",
    "    \n",
    "    cantidad = 0\n",
    "\n",
    "    for anio in range(anio_menor, anio_mayor + 1):\n",
    "        if anio % 4 == 0 and (anio % 100 != 0 or anio % 400 == 0):\n",
    "            cantidad += 1\n",
    "    \n",
    "    print(f\"Entre {anio_menor} y {anio_mayor} hay {cantidad} años bisiestos\")\n",
    "    \n",
    "pedir_anios()"
   ]
  },
  {
   "cell_type": "code",
   "execution_count": null,
   "metadata": {},
   "outputs": [],
   "source": [
    "# Ejercicio 5\n",
    "\n",
    "def generador_de_listas():\n",
    "    print(\"Generador de Listas\")\n",
    "    \n",
    "    cant_listas = int(input(\"Ingresá cuántas listas querés crear: \"))\n",
    "    lista_de_listas = []\n",
    "    \n",
    "    for i in range(1, cant_listas + 1):\n",
    "        cant_palabras = int(input(f\"Ingrese la cantidad de palabras para la lista {i}\"))\n",
    "        lista_palabras = []\n",
    "    \n",
    "        for j in range(1, cant_palabras + 1):\n",
    "            palabra = input(f\"Ingrese la palabra {j}: \")\n",
    "            lista_palabras.append(palabra)\n",
    "        print(f\"Lista {i}: {lista_palabras}\")\n",
    "        lista_de_listas.append(lista_palabras)\n",
    "    \n",
    "    return lista_de_listas\n",
    "    \n",
    "listas_de_palabras = generador_de_listas()"
   ]
  },
  {
   "cell_type": "code",
   "execution_count": null,
   "metadata": {},
   "outputs": [],
   "source": [
    "# Ejercicio 6\n",
    " \n",
    "def comparacion_numeros(numero1=0, numero2=0):\n",
    "    \n",
    "    if numero1 > numero2:\n",
    "        return \"mayor\"\n",
    "    elif numero1 < numero2:\n",
    "        return \"menor\"\n",
    "    else:\n",
    "        return \"iguales\"\n",
    "\n",
    "comparacion_numeros(6, 6)"
   ]
  },
  {
   "cell_type": "code",
   "execution_count": null,
   "metadata": {},
   "outputs": [],
   "source": [
    "# Ejercicio 7\n",
    "\n",
    "def palabras(palabra1=\"carnicero\", palabra2=\"volador\"):\n",
    "    if len(palabra1) < len(palabra2):\n",
    "        palabra1 = palabra1.ljust(len(palabra2), \"$\")\n",
    "    elif len(palabra2) < len(palabra1):\n",
    "        palabra2 = palabra2.ljust(len(palabra1), \"$\")\n",
    "\n",
    "    for letrapalabra1, letrapalabra2 in zip(palabra1, palabra2):\n",
    "        print(letrapalabra1, letrapalabra2)\n",
    "        \n",
    "palabras()"
   ]
  },
  {
   "cell_type": "code",
   "execution_count": null,
   "metadata": {},
   "outputs": [],
   "source": [
    "# Ejercicio 8\n",
    "\n",
    "def tupla_ordenada(tupla):\n",
    "    tupla_ord = tuple(sorted(list(tupla)))\n",
    "    \n",
    "    if tupla == tupla_ord:\n",
    "        return True\n",
    "    else:\n",
    "        return False\n",
    "    \n",
    "# tupla_ordenada((\"jero\", \"fran\", \"ana\", \"flo\", \"lu\"))\n",
    "# tupla_ordenada((\"ana\", \"flo\", \"fran\", \"jero\", \"lu\"))\n",
    "# tupla_ordenada((1, 2, 3, 4, 5))\n",
    "tupla_ordenada((2, 4, 3, 1, 5))"
   ]
  },
  {
   "cell_type": "code",
   "execution_count": null,
   "metadata": {},
   "outputs": [],
   "source": [
    "# Ejercicio 9\n",
    "\n",
    "def numeros():\n",
    "    \n",
    "    lista_numeros = []\n",
    "    \n",
    "    for i in range(3):\n",
    "        numero = int(input(\"Ingrese un número\"))\n",
    "        lista_numeros.append(numero)\n",
    "    \n",
    "    \n",
    "    mayor = max(lista_numeros)\n",
    "    menor = min(lista_numeros)\n",
    "    media = sum(lista_numeros) / len(lista_numeros)\n",
    "    \n",
    "    print(\"Mayor\", mayor)\n",
    "    print(\"Menor\", menor)\n",
    "    print(f\"Media es {media.__round__(2)}\")\n",
    "    \n",
    "numeros()"
   ]
  },
  {
   "cell_type": "code",
   "execution_count": null,
   "metadata": {},
   "outputs": [],
   "source": [
    "# Ejericio 10\n",
    "\n",
    "def numeros():\n",
    "    \n",
    "    while True:\n",
    "        numero = input(\"Ingrese un numero o '0' (cero) para finalizar.\")\n",
    "        if numero == \"0\":\n",
    "            break\n",
    "    \n",
    "        numero_list = list(numero) # lo convierto en lista\n",
    "        numero_int = []\n",
    "        \n",
    "        for num in numero_list:\n",
    "            num = int(num)\n",
    "            numero_int.append(num)\n",
    "            \n",
    "        suma_digitos = sum(numero_int)\n",
    "        numero = str(numero)\n",
    "    \n",
    "        print(f\"La suma de los dígitos de {numero} es {suma_digitos}\")\n",
    "\n",
    "numeros()"
   ]
  }
 ],
 "metadata": {
  "kernelspec": {
   "display_name": "Python 3.10.7 64-bit",
   "language": "python",
   "name": "python3"
  },
  "language_info": {
   "codemirror_mode": {
    "name": "ipython",
    "version": 3
   },
   "file_extension": ".py",
   "mimetype": "text/x-python",
   "name": "python",
   "nbconvert_exporter": "python",
   "pygments_lexer": "ipython3",
   "version": "3.10.7"
  },
  "orig_nbformat": 4,
  "vscode": {
   "interpreter": {
    "hash": "1de8aa0069b8fc1faaff6ba578869c317a217c7dae04833d345f0bdb063c134f"
   }
  }
 },
 "nbformat": 4,
 "nbformat_minor": 2
}
