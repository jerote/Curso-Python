{
 "cells": [
  {
   "cell_type": "code",
   "execution_count": null,
   "metadata": {},
   "outputs": [],
   "source": [
    "mis_datos = {\n",
    "    \"nombre\":   \"Magali\",\n",
    "    \"apellido\": \"Dominguez Lalli\",\n",
    "    \"edad\": 31\n",
    "}\n",
    "\n",
    "print(mis_datos)"
   ]
  },
  {
   "cell_type": "code",
   "execution_count": null,
   "metadata": {},
   "outputs": [],
   "source": [
    "claves = \"nombre\", \"apellido\", \"edad\"\n",
    "valores = \"Magali\", \"Dominguez\", 31\n",
    "\n",
    "mis_datos = dict(zip(claves, valores))\n",
    "\n",
    "print(mis_datos)"
   ]
  },
  {
   "cell_type": "code",
   "execution_count": null,
   "metadata": {},
   "outputs": [],
   "source": [
    "nombre = \"Magali\"\n",
    "edad = 31\n",
    "\n",
    "print(f\"Mi nombre es {nombre} y tengo {edad} años\") # la f es de format y llena las llaves con variables"
   ]
  },
  {
   "cell_type": "code",
   "execution_count": null,
   "metadata": {},
   "outputs": [],
   "source": [
    "print(\"Mi nombre es\", nombre, \"y tengo\", edad, \"años\")"
   ]
  },
  {
   "cell_type": "code",
   "execution_count": null,
   "metadata": {},
   "outputs": [],
   "source": [
    "print(\"Mi nombre es {} y tengo {} años\".format(nombre, edad)) # es un metodo viejo."
   ]
  },
  {
   "cell_type": "code",
   "execution_count": null,
   "metadata": {},
   "outputs": [],
   "source": [
    "print(\"Mi nombre es\" + \" \" + nombre + \" y tengo \" + str(edad) + \" años\")"
   ]
  },
  {
   "cell_type": "code",
   "execution_count": null,
   "metadata": {},
   "outputs": [],
   "source": [
    "nombre = input(\"Ingrese su nombre: \")\n",
    "\n",
    "print(nombre)"
   ]
  },
  {
   "cell_type": "code",
   "execution_count": null,
   "metadata": {},
   "outputs": [],
   "source": [
    "numero = int(input(\"Ingrese un número: \"))\n",
    "print(type(numero))"
   ]
  },
  {
   "cell_type": "code",
   "execution_count": null,
   "metadata": {},
   "outputs": [],
   "source": [
    "numero = 10\n",
    "numero2 = 5\n",
    "\n",
    "(numero + numero2)"
   ]
  },
  {
   "cell_type": "code",
   "execution_count": null,
   "metadata": {},
   "outputs": [],
   "source": [
    "print(-numero)"
   ]
  },
  {
   "cell_type": "code",
   "execution_count": null,
   "metadata": {},
   "outputs": [],
   "source": [
    "print(numero / 3)\n",
    "print(numero * numero2)\n",
    "print(numero ** numero2 // (numero + numero // 7))\n",
    "print(numero2 // numero)"
   ]
  },
  {
   "cell_type": "code",
   "execution_count": 8,
   "metadata": {},
   "outputs": [
    {
     "name": "stdout",
     "output_type": "stream",
     "text": [
      "jero\n",
      "jero\n",
      "jero\n",
      "jero\n",
      "jero\n",
      "jero\n",
      "jero\n",
      "\n"
     ]
    }
   ],
   "source": [
    "nombre = \"jero\"\n",
    "print((nombre + \"\\n\") * 7)"
   ]
  }
 ],
 "metadata": {
  "kernelspec": {
   "display_name": "Python 3.10.7 64-bit",
   "language": "python",
   "name": "python3"
  },
  "language_info": {
   "codemirror_mode": {
    "name": "ipython",
    "version": 3
   },
   "file_extension": ".py",
   "mimetype": "text/x-python",
   "name": "python",
   "nbconvert_exporter": "python",
   "pygments_lexer": "ipython3",
   "version": "3.10.7"
  },
  "orig_nbformat": 4,
  "vscode": {
   "interpreter": {
    "hash": "1de8aa0069b8fc1faaff6ba578869c317a217c7dae04833d345f0bdb063c134f"
   }
  }
 },
 "nbformat": 4,
 "nbformat_minor": 2
}
