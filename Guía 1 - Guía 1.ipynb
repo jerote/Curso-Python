{
 "cells": [
  {
   "cell_type": "code",
   "execution_count": null,
   "metadata": {},
   "outputs": [],
   "source": [
    "# Ejercicio 1\n",
    "\n",
    "print(\"¡Hola Mundo!\") # solo imprime el texto sin más."
   ]
  },
  {
   "cell_type": "code",
   "execution_count": null,
   "metadata": {},
   "outputs": [],
   "source": [
    "# Ejercicio 2\n",
    " \n",
    "hola = \"¡Hola Mundo!\" # se crea una variable con valor str y se imprime\n",
    "print(hola)"
   ]
  },
  {
   "cell_type": "code",
   "execution_count": null,
   "metadata": {},
   "outputs": [],
   "source": [
    "# Ejercicio 3\n",
    "\n",
    "user = input(\"Ingrese nombre de usuario: \") # el input se usa para entradas de usuarios\n",
    "print(f\"¡Hola {user}!\") # se imprime el nombre con un texto formateado"
   ]
  },
  {
   "cell_type": "code",
   "execution_count": null,
   "metadata": {},
   "outputs": [],
   "source": [
    "# Ejercicio 4\n",
    "\n",
    "n = int(input(\"Ingrese un número entero: \")) # usuario ingresa un número entero\n",
    "m = int(input(\"Ingrese otro número entero: \")) # usuario ingresa otro número entero\n",
    "\n",
    "c, r = n // m, n % m # cociente y módulo\n",
    "\n",
    "print(c) # imprime el valor de la división\n",
    "print(r) # imprime el módulo de la división"
   ]
  },
  {
   "cell_type": "code",
   "execution_count": null,
   "metadata": {},
   "outputs": [],
   "source": [
    "# Ejercicio 5\n",
    "\n",
    "peso_payaso = 112 # gramos por payaso\n",
    "peso_muneca = 75 # gramos por muñeca\n",
    "\n",
    "cant_payaso = int(input(\"Ingresá cuántos payasos comprás: \")) # cuántos payasos lleva el usuario\n",
    "cant_muneca = int(input(\"Ingresá cuántas muñecas comprás: \")) # cuántas muñecas lleva el usuario\n",
    "\n",
    "peso_total = peso_payaso * cant_payaso + peso_muneca * cant_muneca # se suma la multiplicación de ambos pesos\n",
    "\n",
    "if peso_total >= 1000:\n",
    "    peso_total /= 1000\n",
    "    print(f\"El peso total del paquete es de {peso_total} kilos.\")\n",
    "else:\n",
    "    print(f\"El peso total del paquete es de {peso_total} gramos.\")\n",
    "\n",
    "# print(f\"Peso total a transportar: {peso_total}\") # imprime el peso total formateado"
   ]
  },
  {
   "cell_type": "code",
   "execution_count": null,
   "metadata": {},
   "outputs": [],
   "source": [
    "# Ejercicio 6\n",
    "\n",
    "nombre = input(\"Ingresá tu nombre: \") # input de nombre\n",
    "n = 0\n",
    "\n",
    "# largo del nombre con método\n",
    "n = len(nombre)\n",
    "\n",
    "# largo del nombre con loop for\n",
    "# for letra in nombre:\n",
    "#     n += 1\n",
    "\n",
    "print(f\"Tu nombre, {nombre}, ¡tiene {n} letras!\") # imprime cuántas letras hay"
   ]
  },
  {
   "cell_type": "code",
   "execution_count": null,
   "metadata": {},
   "outputs": [],
   "source": [
    "# Ejercicio 7\n",
    "\n",
    "nombre = input(\"¿Cuál es tu nombre?: \").casefold() # input de nombre\n",
    "letra = input(\"Ingresá una letra: \").casefold() # input de letra\n",
    "veces = 0 # variable usada como contador del loop for\n",
    "\n",
    "for i in nombre: # se itera el string\n",
    "    if i == letra: # comparación de posición i con letra\n",
    "        veces += 1 # contador del loop\n",
    "\n",
    "print(f\"El nombre {nombre} tiene la letra '{letra}' {veces} veces!\") # imprime todo con formato"
   ]
  },
  {
   "cell_type": "code",
   "execution_count": null,
   "metadata": {},
   "outputs": [],
   "source": [
    "# Ejercicio 8\n",
    "\n",
    "# edad = int(input(\"Ingresá tu edad: \")) # input de edad\n",
    "\n",
    "# if edad > 18: # si es mayor de edad. se imprime que lo es, si no, no.\n",
    "#     print(\"Sos MAYOR de edad.\")\n",
    "# else:\n",
    "#     print(\"Sos MENOR de edad.\")\n",
    "\n",
    "while True:\n",
    "    edad = int(input(\"Ingresá tu edad: \")) # input de edad\n",
    "    if edad >= 18: # es mayor de edad\n",
    "        print(\"Sos MAYOR de edad.\")\n",
    "    elif edad >= 0: # es menor de edad\n",
    "        print(\"Sos MENOR de edad.\")\n",
    "    else: #metió un número menor\n",
    "        print(\"Ingresá un número mayor a 0, logi! 😒\")"
   ]
  },
  {
   "cell_type": "code",
   "execution_count": null,
   "metadata": {},
   "outputs": [],
   "source": [
    "# Ejercicio 9\n",
    "\n",
    "numero = int(input(\"Ingresá un número entero cualquiera: \")) # input de un numero entero\n",
    "\n",
    "if numero > 0 and numero % 2 == 0: # verifica si es mayor a 0 y si es PAR\n",
    "    print(f\"El número {numero} es PAR\") # imprime si es par\n",
    "else:\n",
    "    print(f\"El número {numero} es IMPAR\") # imprime si es impar"
   ]
  },
  {
   "cell_type": "code",
   "execution_count": null,
   "metadata": {},
   "outputs": [],
   "source": [
    "# Ejercicio 10\n",
    "\n",
    "word = input(\"Escribí una palabara cualquiera: \") # input de palabra\n",
    "\n",
    "print((word + \"\\n\") * 10) # imprime string word 10 veces, uno arriba de otro."
   ]
  },
  {
   "cell_type": "code",
   "execution_count": null,
   "metadata": {},
   "outputs": [],
   "source": [
    "# Ejercicio 11\n",
    "\n",
    "word = input(\"Escribí una palabara cualquiera: \") # input de palabra random\n",
    "times = int(input(\"Ingresá un número: \")) # las veces que se quiere imprimir\n",
    "\n",
    "print((word + \"\\n\") * times) # imprime string word el nro de veces ingresado, uno arriba de otro."
   ]
  },
  {
   "cell_type": "code",
   "execution_count": null,
   "metadata": {},
   "outputs": [],
   "source": [
    "# Ejercicio 12\n",
    "\n",
    "edad = int(input(\"Ingresá tu edad: \")) # input de edad del usuario\n",
    "\n",
    "print([i for i in range(1, edad + 1)]) # imprime lista con los números del 1 a la edad ingresada (incl.)"
   ]
  },
  {
   "cell_type": "code",
   "execution_count": null,
   "metadata": {},
   "outputs": [],
   "source": [
    "# Ejercicio 13\n",
    " \n",
    "tabla = int(input(\"Ingrese un numero para la tabla: \")) # Pido el número para la tabla.\n",
    "\n",
    "for i in range(1, 10+1): # Por cada elemento en el rango de 1 a 10+1 (para incluir el 10)\n",
    "    print(f\"{i} x {tabla}: {i * tabla}\") # Imprimo el resultado por cada número."
   ]
  },
  {
   "cell_type": "code",
   "execution_count": null,
   "metadata": {},
   "outputs": [],
   "source": [
    "# Ejercicio 14\n",
    "\n",
    "user_word = input(\"Ingresá una palabra: \") # Pido el primer input al usuario.\n",
    "safe_word = \"salir\" # Esta es la palabara que uso para comparar con el ingreso del usuario.\n",
    "\n",
    "while user_word.lower() != safe_word.lower(): # Comparación del ingreso vs la palabra clave (ambas en minúsculas).\n",
    "    print(user_word) # imprimo la palabra ingresada para hacer eco.\n",
    "    user_word = (input(\"Ingresá otra palabra: \")) # Pido la siguiente palabra.\n",
    "else:\n",
    "    print(\"Listo. 'While' loop terminado! 😊\") # Mensaje para salir del loop."
   ]
  },
  {
   "cell_type": "code",
   "execution_count": null,
   "metadata": {},
   "outputs": [],
   "source": [
    "# Ejercicio 15\n",
    "\n",
    "asignaturas = [\"Matemáticas\", \"Física\", \"Química\", \"Historia\", \"Lengua\"] # Lista con asignaturas\n",
    "notas = [] # Lista a la que le voy a sumar las notas\n",
    "\n",
    "for i in asignaturas: # por cada item en asignaturas\n",
    "    nota = float(input(f\"¿Cuál fue tu nota en {i}?: \")) # pide al usuario la nota de la asignatura\n",
    "    notas.append((i, nota)) # A la variable notas le sumo tuplas con las asignaturas y sus valores\n",
    "    # asignaturas[i] = nota\n",
    "    \n",
    "for tupla in notas: # Itero las tuplas dentro de las notas\n",
    "    print(f\"En {tupla[0]} has sacado {tupla[1]}\") # Muestro la posicion 0 y 1 de cada tupla en el mensaje."
   ]
  },
  {
   "cell_type": "code",
   "execution_count": 27,
   "metadata": {},
   "outputs": [
    {
     "name": "stdout",
     "output_type": "stream",
     "text": [
      "Moneda inexistente.\n"
     ]
    }
   ],
   "source": [
    "# Ejercicio 16\n",
    "\n",
    "from errno import EAFNOSUPPORT\n",
    "\n",
    "divisas = { # divisas para elegir\n",
    "    \"Euro\": \"€\",\n",
    "    \"Dollar\": \"$\",\n",
    "    \"Yen\": \"¥\"\n",
    "}\n",
    "\n",
    "divisa = input(f\"Seleccione la divisa: \\n {divisas}\").capitalize() # Pide al usuario escribir una divisa\n",
    "\n",
    "try: # en caso que el usuario ingrese divisa equivocada\n",
    "    print(f\"Seleccionaste: {divisas[divisa]}\") # Muestra la divisa ingresada por el usuario\n",
    "except KeyError:\n",
    "    print(\"Moneda inexistente.\") # cuando el usuario ingresa otro valor a los existentes"
   ]
  },
  {
   "cell_type": "code",
   "execution_count": null,
   "metadata": {},
   "outputs": [],
   "source": [
    "# Ejercicio 17\n",
    "\n",
    "vocales = [\"a\", \"e\", \"i\", \"o\", \"u\"]\n",
    "\n",
    "letra = input(\"Ingrese una letra: \").lower() # input del usuario\n",
    "\n",
    "if letra.isdigit() == True:\n",
    "    print(f\"El valor {letra} no es una letra. 😐\") # mensaje si se ingresa un número\n",
    "elif letra.isalpha() == False:\n",
    "    print(f\"¿El símbolo {letra} te parece una letra? 🙄\")\n",
    "elif letra in vocales: # evalúo si letra está en la lista de vocales (True or False)\n",
    "    print(f\"¡La letra {letra.upper()} es una vocal! 😃\") # mensaje si letra está en lista vocales\n",
    "else:\n",
    "    print(f\"La letra {letra.upper()} no es una vocal. 😕\") # mensaje si letra no se encuentra en lista vocales"
   ]
  },
  {
   "cell_type": "code",
   "execution_count": null,
   "metadata": {},
   "outputs": [],
   "source": [
    "def solve(s):\n",
    "    print(' '.join(elem.capitalize() for elem in s.split()))\n",
    "    print(' '.join(elem.capitalize() for elem in s.split(' ')))\n",
    "    \n",
    "solve('abb ccdd ssd asdfasdf 654 321asdf 3546df(/&')"
   ]
  },
  {
   "cell_type": "code",
   "execution_count": 3,
   "metadata": {},
   "outputs": [
    {
     "name": "stdout",
     "output_type": "stream",
     "text": [
      "Python\n"
     ]
    }
   ],
   "source": [
    "# Para preguntar en el grupo de Telegram o clase del viernes\n",
    "\n",
    "a = b = c = {\"language\": \"JavaScript\"}\n",
    "b[\"language\"] = \"Python\"\n",
    "print(a[\"language\"])\n"
   ]
  }
 ],
 "metadata": {
  "kernelspec": {
   "display_name": "Python 3.10.7 64-bit",
   "language": "python",
   "name": "python3"
  },
  "language_info": {
   "codemirror_mode": {
    "name": "ipython",
    "version": 3
   },
   "file_extension": ".py",
   "mimetype": "text/x-python",
   "name": "python",
   "nbconvert_exporter": "python",
   "pygments_lexer": "ipython3",
   "version": "3.10.7"
  },
  "orig_nbformat": 4,
  "vscode": {
   "interpreter": {
    "hash": "1de8aa0069b8fc1faaff6ba578869c317a217c7dae04833d345f0bdb063c134f"
   }
  }
 },
 "nbformat": 4,
 "nbformat_minor": 2
}
