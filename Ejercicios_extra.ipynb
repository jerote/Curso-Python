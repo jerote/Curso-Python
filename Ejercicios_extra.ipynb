{
 "cells": [
  {
   "cell_type": "code",
   "execution_count": null,
   "metadata": {},
   "outputs": [],
   "source": [
    "# Ejercicio 1.1. Escribir un programa que pregunte al usuario:\n",
    "#   a) su nombre, y luego lo salude.\n",
    "#   b) dos números y luego muestre el producto.\n",
    "\n",
    "def pregunta():\n",
    "    nombre = input(\"Escribí tu nombre: \").casefold()\n",
    "    \n",
    "    print(f\"Hola, {nombre.title()}!! 😃\")\n",
    "    numero1 = int(input(\"Ahora ingresá un número mayor a cero: \"))\n",
    "    numero2 = int(input(\"Otro más y no jodemos más: \"))\n",
    "    \n",
    "    print(f\"El producto de {numero1} y {numero2} es {numero1 * numero2}\")\n",
    "    print(\"Saludos! 😃\")\n",
    "    \n",
    "pregunta()"
   ]
  },
  {
   "cell_type": "code",
   "execution_count": null,
   "metadata": {},
   "outputs": [],
   "source": [
    "# Ejercicio 1.2. Implementar algoritmos que permitan:\n",
    "# a) Calcular el perímetro y área de un rectángulo dada su base y su altura.\n",
    "\n",
    "def perim_r(base=int(), altura=int()):\n",
    "    perim_r = base * 2 + altura * 2\n",
    "    print(f\"El perímetro del rectángulo es {perim_r}\")\n",
    "    \n",
    "perim_r(base=5, altura=10)\n",
    "\n",
    "# b) Calcular el perímetro y área de un círculo dado su radio.\n",
    "\n",
    "def perim_c(radio=int()):\n",
    "    perim_c = (3.14 * radio)**2\n",
    "    print(f\"El perímetro del círculo es {perim_c.__round__(2)}\")\n",
    "\n",
    "perim_c(radio=10)\n",
    "\n",
    "#     c) Calcular el volumen de una esfera dado su radio.\n",
    "\n",
    "def volumen_e(radio=int()):\n",
    "    volumen_e = radio / 3 * 3.14 * (radio ** 3)\n",
    "    print(f\"El volumen de la esfera es {volumen_e.__round__(2)}\")\n",
    "    \n",
    "volumen_e(4)\n",
    "\n",
    "# d) Calcular el área de un rectángulo (alineado con los ejes x e y) dadas sus coordenadas x1,x2,y1,y2.\n",
    "\n",
    "def area_r(x1=float(), x2=float(), y1=float(), y2=float()):\n",
    "    lado_x = max(x1, x2) - min(x1, x2)\n",
    "    lado_y = max(y1, y2) - min(y1, y2)\n",
    "    area_r = (lado_x * lado_y)**2\n",
    "    print(f\"El área del rectángulo es: {area_r.__round__(2)}\")\n",
    "    \n",
    "area_r(1, 2, 1, 2)\n",
    "\n",
    "# e) Dados los catetos de un triángulo rectángulo, calcular su hipotenusa.\n",
    "\n",
    "def hipotenusa(cat_a=float(), cat_b=float()):\n",
    "    hipotenusa = (cat_a ** 2) + (cat_b ** 2)\n",
    "    print(f\"La hipotenusa del triángulo es: {hipotenusa.__round__(2)}\")\n",
    "\n",
    "hipotenusa(2.5, 3.70)"
   ]
  },
  {
   "cell_type": "code",
   "execution_count": null,
   "metadata": {},
   "outputs": [],
   "source": [
    "# Ejercicio 1.3. Mostrar el resultado de ejecutar estos bloques de código en el intérprete de python:\n",
    "\n",
    "for i in range(5):\n",
    "    print(i * i)\n",
    "\n",
    "for i in range(2,6):\n",
    "    print( i , 2**i)\n",
    "\n",
    "for d in [3, 1, 4, 1, 5]:\n",
    "    print(d, \"hola\")"
   ]
  },
  {
   "cell_type": "code",
   "execution_count": null,
   "metadata": {},
   "outputs": [],
   "source": [
    "# Ejercicio 1.4. Implementar algoritmos que resuelvan los siguientes problemas:\n",
    "# a) Dados dos números, indicar la suma, resta, división y multiplicación de ambos.\n",
    "\n",
    "def suma(num1=float(), num2=float()):\n",
    "    suma = num1 + num2\n",
    "    print(f\"{num1} + {num2} = {suma}!\")\n",
    "    \n",
    "def resta(num1=float(), num2=float()):\n",
    "    resta = num1 + num2\n",
    "    print(f\"{num1} - {num2} = {resta}!\")\n",
    "    \n",
    "def division(num1=float(), num2=float()):\n",
    "    division = num1 / num2\n",
    "    print(f\"{num1} / {num2} = {division}!\")\n",
    "    \n",
    "def multiplicacion(num1=float(), num2=float()):\n",
    "    multiplicacion = num1 + num2\n",
    "    print(f\"{num1} x {num2} = {multiplicacion}!\")\n",
    "    \n",
    "suma(2, 6)\n",
    "resta(58, 8)\n",
    "division(20, 4)\n",
    "multiplicacion(5, 2)"
   ]
  },
  {
   "cell_type": "code",
   "execution_count": null,
   "metadata": {},
   "outputs": [],
   "source": [
    "# b) Dado un número entero N, imprimir su tabla de multiplicar.\n",
    "\n",
    "def tabla_de_multiplicar(n=int()):\n",
    "    for i in range(1, 11):\n",
    "        print(f\"{n} x {i} = {(n * i)}\")\n",
    "        \n",
    "tabla_de_multiplicar(6)"
   ]
  },
  {
   "cell_type": "code",
   "execution_count": 76,
   "metadata": {},
   "outputs": [
    {
     "data": {
      "text/plain": [
       "40320"
      ]
     },
     "execution_count": 76,
     "metadata": {},
     "output_type": "execute_result"
    }
   ],
   "source": [
    "# c) Dado un número entero N, imprimir su factorial.\n",
    "\n",
    "def factorial(n=int()):\n",
    "    \n",
    "    result = n\n",
    "    \n",
    "    if n == 0:\n",
    "        result = 1\n",
    "    else:    \n",
    "        for i in range(n, 1, -1):\n",
    "            result *= i - 1\n",
    "\n",
    "        return result\n",
    "        \n",
    "factorial()"
   ]
  },
  {
   "cell_type": "code",
   "execution_count": null,
   "metadata": {},
   "outputs": [],
   "source": [
    "def palabra(palabra=input(\"Ingresá una palabra: \")):\n",
    "    print(f\"{palabra} \" * 1000)\n",
    "\n",
    "palabra()"
   ]
  },
  {
   "cell_type": "code",
   "execution_count": null,
   "metadata": {},
   "outputs": [],
   "source": [
    "# Ejercicio 2.1.\n",
    "\n",
    "def numeros():\n",
    "    c = float(input(\"Capital Inicial $ \"))\n",
    "    x = float(input(\"Tasa Interés: \"))\n",
    "    n = int(input(\"Años: \"))\n",
    "    \n",
    "    monto_final = (c * (1 + x / 100)**n).__round__()\n",
    "    \n",
    "    print(monto_final)\n",
    "    \n",
    "numeros()"
   ]
  },
  {
   "cell_type": "code",
   "execution_count": null,
   "metadata": {},
   "outputs": [],
   "source": [
    "# Ejercicio 2.2.\n",
    "\n",
    "def conversor(grados=float()):\n",
    "    celcius = (grados - 32) / (9 / 5)\n",
    "    return celcius\n",
    "\n",
    "conversor(110)"
   ]
  },
  {
   "cell_type": "code",
   "execution_count": null,
   "metadata": {},
   "outputs": [],
   "source": [
    "# Ejercicio 2.3.\n",
    "\n",
    "for t in range(0, 120, 10):\n",
    "    celsius = conversor(t)\n",
    "    print(f\"{t}º F = {celsius.__round__()}º C\")"
   ]
  },
  {
   "cell_type": "code",
   "execution_count": null,
   "metadata": {},
   "outputs": [],
   "source": [
    "def print_even():\n",
    "    num1 = int(input(\"Meté un número: \"))\n",
    "    num2 = int(input(\"Meté otro número: \"))\n",
    "    \n",
    "    for num in range(num1, num2):\n",
    "        if num % 2 == 0:\n",
    "            print(f\"{num} es par! 😃\")\n",
    "            \n",
    "print_even()\n",
    "            \n",
    "            "
   ]
  },
  {
   "cell_type": "code",
   "execution_count": null,
   "metadata": {},
   "outputs": [],
   "source": [
    "# Ejercicio 2.5.\n",
    "\n",
    "def hasta(n=int()): # creo la funcion que lleva un entero\n",
    "    \n",
    "    lst = [] # creo la lista\n",
    "    \n",
    "    for i in range(1, n + 1):\n",
    "        lst.append(i)\n",
    "        tri = sum(lst)\n",
    "        print(f\"{i} - {tri}\")\n",
    "    \n",
    "hasta(12)"
   ]
  },
  {
   "cell_type": "code",
   "execution_count": 78,
   "metadata": {},
   "outputs": [
    {
     "ename": "TypeError",
     "evalue": "'int' object is not callable",
     "output_type": "error",
     "traceback": [
      "\u001b[1;31m---------------------------------------------------------------------------\u001b[0m",
      "\u001b[1;31mTypeError\u001b[0m                                 Traceback (most recent call last)",
      "Cell \u001b[1;32mIn [78], line 22\u001b[0m\n\u001b[0;32m     18\u001b[0m         orden \u001b[39m+\u001b[39m\u001b[39m=\u001b[39m \u001b[39m1\u001b[39m\n\u001b[0;32m     19\u001b[0m         \u001b[39mprint\u001b[39m(\u001b[39mf\u001b[39m\u001b[39m\"\u001b[39m\u001b[39m{\u001b[39;00morden\u001b[39m}\u001b[39;00m\u001b[39m - Factorial de \u001b[39m\u001b[39m{\u001b[39;00mnumero\u001b[39m}\u001b[39;00m\u001b[39m es \u001b[39m\u001b[39m{\u001b[39;00mfactorial\u001b[39m}\u001b[39;00m\u001b[39m\"\u001b[39m)\n\u001b[1;32m---> 22\u001b[0m calcular_factorial()\n",
      "Cell \u001b[1;32mIn [78], line 17\u001b[0m, in \u001b[0;36mcalcular_factorial\u001b[1;34m()\u001b[0m\n\u001b[0;32m     15\u001b[0m \u001b[39mfor\u001b[39;00m numero \u001b[39min\u001b[39;00m \u001b[39mrange\u001b[39m(\u001b[39m1\u001b[39m, lst[valor]): \u001b[39m# itera la multiplicacion\u001b[39;00m\n\u001b[0;32m     16\u001b[0m     factorial \u001b[39m=\u001b[39m valor \u001b[39m*\u001b[39m numero \u001b[39m# multiplica\u001b[39;00m\n\u001b[1;32m---> 17\u001b[0m     \u001b[39mreturn\u001b[39;00m factorial(numero)\n\u001b[0;32m     18\u001b[0m orden \u001b[39m+\u001b[39m\u001b[39m=\u001b[39m \u001b[39m1\u001b[39m\n\u001b[0;32m     19\u001b[0m \u001b[39mprint\u001b[39m(\u001b[39mf\u001b[39m\u001b[39m\"\u001b[39m\u001b[39m{\u001b[39;00morden\u001b[39m}\u001b[39;00m\u001b[39m - Factorial de \u001b[39m\u001b[39m{\u001b[39;00mnumero\u001b[39m}\u001b[39;00m\u001b[39m es \u001b[39m\u001b[39m{\u001b[39;00mfactorial\u001b[39m}\u001b[39;00m\u001b[39m\"\u001b[39m)\n",
      "\u001b[1;31mTypeError\u001b[0m: 'int' object is not callable"
     ]
    }
   ],
   "source": [
    "# Ejercicio 2.6.\n",
    "\n",
    "def calcular_factorial():\n",
    "    \n",
    "    m = int(input(\"¿Cuántos valores ingresás? \")) # cantidad de valores a ingresar\n",
    "    lst = [] # lista de numeros que serán ingresados en el sig. for loop\n",
    "    orden = 0 # orden de cada número\n",
    "    \n",
    "    for i in range(1, m + 1): # se pide ingresar los números\n",
    "        \n",
    "        num = input(f\"Ingresá el número {i}: \") # pide el número que se sumará a la lista\n",
    "        lst.append(int(num)) # sumo cada número a la lista\n",
    "        \n",
    "    for valor in lst: # por cada valor de la lista\n",
    "        for numero in range(1, lst[valor]): # itera la multiplicacion\n",
    "            factorial = valor * numero # multiplica\n",
    "            return factorial(numero)\n",
    "        orden += 1\n",
    "        print(f\"{orden} - Factorial de {numero} es {factorial}\")\n",
    "        \n",
    "    \n",
    "calcular_factorial()"
   ]
  }
 ],
 "metadata": {
  "kernelspec": {
   "display_name": "Python 3.10.7 64-bit",
   "language": "python",
   "name": "python3"
  },
  "language_info": {
   "codemirror_mode": {
    "name": "ipython",
    "version": 3
   },
   "file_extension": ".py",
   "mimetype": "text/x-python",
   "name": "python",
   "nbconvert_exporter": "python",
   "pygments_lexer": "ipython3",
   "version": "3.10.7"
  },
  "orig_nbformat": 4,
  "vscode": {
   "interpreter": {
    "hash": "1de8aa0069b8fc1faaff6ba578869c317a217c7dae04833d345f0bdb063c134f"
   }
  }
 },
 "nbformat": 4,
 "nbformat_minor": 2
}
